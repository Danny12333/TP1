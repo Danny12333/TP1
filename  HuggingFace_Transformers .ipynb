{
 "cells": [
  {
   "cell_type": "markdown",
   "id": "8404be25",
   "metadata": {},
   "source": [
    "## Daniel Joaquim Paulino\n",
    "\n",
    "\n",
    "\n",
    "\n",
    "## TP1  using library :   Hugging face "
   ]
  },
  {
   "cell_type": "markdown",
   "id": "099816f6",
   "metadata": {},
   "source": [
    "# Text to Tokenize in English"
   ]
  },
  {
   "cell_type": "code",
   "execution_count": 22,
   "id": "e14bc1ea",
   "metadata": {},
   "outputs": [],
   "source": [
    "english_text=(\"\"\"\n",
    "            Perhaps one of the most significant advances made by Arabic mathematics began at this time \n",
    "            with the work of al-Khwarizmi, namely the beginnings of algebra. It is important to \n",
    "            understand just how significant this new idea was. It was a revolutionary move away \n",
    "            from the Greek concept of mathematics which was essentially geometry. Algebra was a \n",
    "            unifying theory which allowed rational numbers, irrational numbers, geometrical \n",
    "            magnitudes,etc., to all be treated as \"algebraic objects\". It gave mathematics a whole new \n",
    "            development path so much broader in concept to that which had existed before, and provided a\n",
    "            vehicle for future development of the subject. Another important aspect of the introduction \n",
    "            of algebraic ideas was that it allowed mathematics to be applied to itself in a way which \n",
    "            had not happened before.\"\"\")\n",
    "#print(\"#THIS IS OUR TEXT TO TOKENIZE IN ENGLISH :\",english_text)"
   ]
  },
  {
   "cell_type": "markdown",
   "id": "3cbdb814",
   "metadata": {},
   "source": [
    "\n",
    "\n",
    "## 1- Tokenizer \n"
   ]
  },
  {
   "cell_type": "code",
   "execution_count": 23,
   "id": "c67b5ded",
   "metadata": {},
   "outputs": [],
   "source": [
    "#pip install transformers\n",
    "#pip install flair\n",
    "\n",
    "from transformers import AutoTokenizer, AutoModel\n",
    "from flair.data import Sentence\n",
    "from flair.models import SequenceTagger"
   ]
  },
  {
   "cell_type": "code",
   "execution_count": 24,
   "id": "50689fe7",
   "metadata": {},
   "outputs": [
    {
     "name": "stdout",
     "output_type": "stream",
     "text": [
      "#RESULT OF TOKENIZE:  ['Perhaps', 'one', 'of', 'the', 'most', 'significant', 'advances', 'made', 'by', 'Arabic', 'mathematics', 'began', 'at', 'this', 'time', 'with', 'the', 'work', 'of', 'al', '-', 'K', '##hwa', '##riz', '##mi', ',', 'namely', 'the', 'beginnings', 'of', 'algebra', '.', 'It', 'is', 'important', 'to', 'understand', 'just', 'how', 'significant', 'this', 'new', 'idea', 'was', '.', 'It', 'was', 'a', 'revolutionary', 'move', 'away', 'from', 'the', 'Greek', 'concept', 'of', 'mathematics', 'which', 'was', 'essentially', 'geometry', '.', 'Al', '##ge', '##bra', 'was', 'a', 'un', '##ifying', 'theory', 'which', 'allowed', 'rational', 'numbers', ',', 'irrational', 'numbers', ',', 'geometric', '##al', 'magnitude', '##s', ',', 'etc', '.', ',', 'to', 'all', 'be', 'treated', 'as', '\"', 'algebraic', 'objects', '\"', '.', 'It', 'gave', 'mathematics', 'a', 'whole', 'new', 'development', 'path', 'so', 'much', 'broader', 'in', 'concept', 'to', 'that', 'which', 'had', 'existed', 'before', ',', 'and', 'provided', 'a', 'vehicle', 'for', 'future', 'development', 'of', 'the', 'subject', '.', 'Another', 'important', 'aspect', 'of', 'the', 'introduction', 'of', 'algebraic', 'ideas', 'was', 'that', 'it', 'allowed', 'mathematics', 'to', 'be', 'applied', 'to', 'itself', 'in', 'a', 'way', 'which', 'had', 'not', 'happened', 'before', '.']\n"
     ]
    }
   ],
   "source": [
    "\n",
    "\n",
    "token=AutoTokenizer.from_pretrained(\"bert-large-cased\")\n",
    "token1=token.tokenize(english_text)\n",
    "\n",
    "#PRINT OF TOKENIZE\n",
    "\n",
    "print(\"#RESULT OF TOKENIZE: \",token1)\n"
   ]
  },
  {
   "cell_type": "markdown",
   "id": "b03e2184",
   "metadata": {},
   "source": [
    "# 2- Sentente Tokenization"
   ]
  },
  {
   "cell_type": "code",
   "execution_count": 25,
   "id": "3041b5eb",
   "metadata": {},
   "outputs": [
    {
     "name": "stdout",
     "output_type": "stream",
     "text": [
      "\n",
      "\n",
      "#RESULT SENTENCE TOKENIZATION :  [Sentence: \"Perhaps one of the most significant advances made by Arabic mathematics began at this time with the work of al-Khwarizmi , namely the beginnings of algebra .\"   [− Tokens: 27], Sentence: \"It is important to understand just how significant this new idea was .\"   [− Tokens: 13], Sentence: \"It was a revolutionary move away from the Greek concept of mathematics which was essentially geometry .\"   [− Tokens: 17], Sentence: \"Algebra was a unifying theory which allowed rational numbers , irrational numbers , geometrical magnitudes,etc. , to all be treated as \" algebraic objects \" .\"   [− Tokens: 26], Sentence: \"It gave mathematics a whole new development path so much broader in concept to that which had existed before , and provided a vehicle for future development of the subject .\"   [− Tokens: 31], Sentence: \"Another important aspect of the introduction of algebraic ideas was that it allowed mathematics to be applied to itself in a way which had not happened before .\"   [− Tokens: 28]]\n"
     ]
    }
   ],
   "source": [
    "#PRINT THE RESULT OF SENTENCE TOKENIZETION \n",
    "\n",
    "\n",
    "from bs4 import BeautifulSoup\n",
    "import requests\n",
    "from pprint import pprint\n",
    "from segtok.segmenter import split_single\n",
    "from flair.models import MultiTagger\n",
    "from flair.tokenization import SegtokSentenceSplitter\n",
    "\n",
    "\n",
    "    \n",
    "english_text=(\"\"\"\n",
    "            Perhaps one of the most significant advances made by Arabic mathematics began at this time \n",
    "            with the work of al-Khwarizmi, namely the beginnings of algebra. It is important to \n",
    "            understand just how significant this new idea was. It was a revolutionary move away \n",
    "            from the Greek concept of mathematics which was essentially geometry. Algebra was a \n",
    "            unifying theory which allowed rational numbers, irrational numbers, geometrical \n",
    "            magnitudes,etc., to all be treated as \"algebraic objects\". It gave mathematics a whole new \n",
    "            development path so much broader in concept to that which had existed before, and provided a\n",
    "            vehicle for future development of the subject. Another important aspect of the introduction \n",
    "            of algebraic ideas was that it allowed mathematics to be applied to itself in a way which \n",
    "            had not happened before.\"\"\")\n",
    "\n",
    "\n",
    "\n",
    "#initialize sentence splitter\n",
    "splitter = SegtokSentenceSplitter()\n",
    "    \n",
    "sentences = splitter.split(english_text)\n",
    "\n",
    "#sentences = [Sentence(sent, use_tokenizer=True) \n",
    "             \n",
    "#             for sent in split_single(english_text)]\n",
    "\n",
    "print('\\n')\n",
    "\n",
    "print(\"#RESULT SENTENCE TOKENIZATION : \", sentences)"
   ]
  },
  {
   "cell_type": "markdown",
   "id": "b18f23f4",
   "metadata": {},
   "source": [
    "\n",
    "## 3- POS_tagging"
   ]
  },
  {
   "cell_type": "code",
   "execution_count": 28,
   "id": "9e5b7c93",
   "metadata": {},
   "outputs": [
    {
     "name": "stdout",
     "output_type": "stream",
     "text": [
      "2021-07-22 02:27:45,450 loading file /Users/danieljoaquimpaulino/.flair/models/pos-english/a9a73f6cd878edce8a0fa518db76f441f1cc49c2525b2b4557af278ec2f0659e.121306ea62993d04cd1978398b68396931a39eb47754c8a06a87f325ea70ac63\n",
      "\n",
      "\n",
      "#RESULT OF ENGLISH TAGG :  Sentence: \"Perhaps one of the most significant advances made by Arabic mathematics began at this time with the work of al-Khwarizmi , namely the beginnings of algebra . It is important to understand just how significant this new idea was . It was a revolutionary move away from the Greek concept of mathematics which was essentially geometry . Algebra was a unifying theory which allowed rational numbers , irrational numbers , geometrical magnitudes,etc. , to all be treated as \" algebraic objects \" . It gave mathematics a whole new development path so much broader in concept to that which had existed before , and provided a vehicle for future development of the subject . Another important aspect of the introduction of algebraic ideas was that it allowed mathematics to be applied to itself in a way which had not happened before .\"   [− Tokens: 142  − Token-Labels: \"Perhaps <RB> one <CD> of <IN> the <DT> most <RBS> significant <JJ> advances <NNS> made <VBN> by <IN> Arabic <JJ> mathematics <NNS> began <VBD> at <IN> this <DT> time <NN> with <IN> the <DT> work <NN> of <IN> al-Khwarizmi <NNP> , <,> namely <RB> the <DT> beginnings <NNS> of <IN> algebra <NN> . <,> It <PRP> is <VBZ> important <JJ> to <TO> understand <VB> just <RB> how <WRB> significant <JJ> this <DT> new <JJ> idea <NN> was <VBD> . <,> It <PRP> was <VBD> a <DT> revolutionary <JJ> move <NN> away <RB> from <IN> the <DT> Greek <JJ> concept <NN> of <IN> mathematics <NNS> which <WDT> was <VBD> essentially <RB> geometry <NN> . <,> Algebra <NNP> was <VBD> a <DT> unifying <VBG> theory <NN> which <WDT> allowed <VBD> rational <JJ> numbers <NNS> , <,> irrational <JJ> numbers <NNS> , <,> geometrical <JJ> magnitudes,etc. <NN> , <,> to <TO> all <DT> be <VB> treated <VBN> as <IN> \" <``> algebraic <JJ> objects <NNS> \" <''> . <,> It <PRP> gave <VBD> mathematics <NNS> a <DT> whole <JJ> new <JJ> development <NN> path <NN> so <RB> much <RB> broader <JJR> in <IN> concept <NN> to <IN> that <DT> which <WDT> had <VBD> existed <VBN> before <RB> , <,> and <CC> provided <VBD> a <DT> vehicle <NN> for <IN> future <JJ> development <NN> of <IN> the <DT> subject <NN> . <,> Another <DT> important <JJ> aspect <NN> of <IN> the <DT> introduction <NN> of <IN> algebraic <JJ> ideas <NNS> was <VBD> that <IN> it <PRP> allowed <VBD> mathematics <NNS> to <TO> be <VB> applied <VBN> to <IN> itself <PRP> in <IN> a <DT> way <NN> which <WDT> had <VBD> not <RB> happened <VBN> before <RB> . <.>\"]\n",
      "\n",
      "\n",
      "Span [1]: \"Perhaps\"   [− Labels: RB (1.0)]\n",
      "Span [2]: \"one\"   [− Labels: CD (0.9999)]\n",
      "Span [3]: \"of\"   [− Labels: IN (1.0)]\n",
      "Span [4]: \"the\"   [− Labels: DT (1.0)]\n",
      "Span [5]: \"most\"   [− Labels: RBS (0.9999)]\n",
      "Span [6]: \"significant\"   [− Labels: JJ (1.0)]\n",
      "Span [7]: \"advances\"   [− Labels: NNS (1.0)]\n",
      "Span [8]: \"made\"   [− Labels: VBN (1.0)]\n",
      "Span [9]: \"by\"   [− Labels: IN (1.0)]\n",
      "Span [10]: \"Arabic\"   [− Labels: JJ (0.9997)]\n",
      "Span [11]: \"mathematics\"   [− Labels: NNS (0.9996)]\n",
      "Span [12]: \"began\"   [− Labels: VBD (1.0)]\n",
      "Span [13]: \"at\"   [− Labels: IN (1.0)]\n",
      "Span [14]: \"this\"   [− Labels: DT (1.0)]\n",
      "Span [15]: \"time\"   [− Labels: NN (1.0)]\n",
      "Span [16]: \"with\"   [− Labels: IN (1.0)]\n",
      "Span [17]: \"the\"   [− Labels: DT (1.0)]\n",
      "Span [18]: \"work\"   [− Labels: NN (1.0)]\n",
      "Span [19]: \"of\"   [− Labels: IN (1.0)]\n",
      "Span [20]: \"al-Khwarizmi\"   [− Labels: NNP (0.9996)]\n",
      "Span [21]: \",\"   [− Labels: , (1.0)]\n",
      "Span [22]: \"namely\"   [− Labels: RB (1.0)]\n",
      "Span [23]: \"the\"   [− Labels: DT (1.0)]\n",
      "Span [24]: \"beginnings\"   [− Labels: NNS (1.0)]\n",
      "Span [25]: \"of\"   [− Labels: IN (1.0)]\n",
      "Span [26]: \"algebra\"   [− Labels: NN (0.9841)]\n",
      "Span [27]: \".\"   [− Labels: , (0.9918)]\n",
      "Span [28]: \"It\"   [− Labels: PRP (1.0)]\n",
      "Span [29]: \"is\"   [− Labels: VBZ (1.0)]\n",
      "Span [30]: \"important\"   [− Labels: JJ (1.0)]\n",
      "Span [31]: \"to\"   [− Labels: TO (1.0)]\n",
      "Span [32]: \"understand\"   [− Labels: VB (1.0)]\n",
      "Span [33]: \"just\"   [− Labels: RB (0.9998)]\n",
      "Span [34]: \"how\"   [− Labels: WRB (1.0)]\n",
      "Span [35]: \"significant\"   [− Labels: JJ (1.0)]\n",
      "Span [36]: \"this\"   [− Labels: DT (1.0)]\n",
      "Span [37]: \"new\"   [− Labels: JJ (1.0)]\n",
      "Span [38]: \"idea\"   [− Labels: NN (1.0)]\n",
      "Span [39]: \"was\"   [− Labels: VBD (1.0)]\n",
      "Span [40]: \".\"   [− Labels: , (0.9986)]\n",
      "Span [41]: \"It\"   [− Labels: PRP (1.0)]\n",
      "Span [42]: \"was\"   [− Labels: VBD (1.0)]\n",
      "Span [43]: \"a\"   [− Labels: DT (1.0)]\n",
      "Span [44]: \"revolutionary\"   [− Labels: JJ (0.9998)]\n",
      "Span [45]: \"move\"   [− Labels: NN (1.0)]\n",
      "Span [46]: \"away\"   [− Labels: RB (0.9998)]\n",
      "Span [47]: \"from\"   [− Labels: IN (1.0)]\n",
      "Span [48]: \"the\"   [− Labels: DT (1.0)]\n",
      "Span [49]: \"Greek\"   [− Labels: JJ (0.5932)]\n",
      "Span [50]: \"concept\"   [− Labels: NN (1.0)]\n",
      "Span [51]: \"of\"   [− Labels: IN (1.0)]\n",
      "Span [52]: \"mathematics\"   [− Labels: NNS (0.997)]\n",
      "Span [53]: \"which\"   [− Labels: WDT (1.0)]\n",
      "Span [54]: \"was\"   [− Labels: VBD (1.0)]\n",
      "Span [55]: \"essentially\"   [− Labels: RB (1.0)]\n",
      "Span [56]: \"geometry\"   [− Labels: NN (0.9339)]\n",
      "Span [57]: \".\"   [− Labels: , (0.9943)]\n",
      "Span [58]: \"Algebra\"   [− Labels: NNP (0.9994)]\n",
      "Span [59]: \"was\"   [− Labels: VBD (1.0)]\n",
      "Span [60]: \"a\"   [− Labels: DT (1.0)]\n",
      "Span [61]: \"unifying\"   [− Labels: VBG (0.9965)]\n",
      "Span [62]: \"theory\"   [− Labels: NN (1.0)]\n",
      "Span [63]: \"which\"   [− Labels: WDT (1.0)]\n",
      "Span [64]: \"allowed\"   [− Labels: VBD (1.0)]\n",
      "Span [65]: \"rational\"   [− Labels: JJ (1.0)]\n",
      "Span [66]: \"numbers\"   [− Labels: NNS (1.0)]\n",
      "Span [67]: \",\"   [− Labels: , (1.0)]\n",
      "Span [68]: \"irrational\"   [− Labels: JJ (1.0)]\n",
      "Span [69]: \"numbers\"   [− Labels: NNS (1.0)]\n",
      "Span [70]: \",\"   [− Labels: , (1.0)]\n",
      "Span [71]: \"geometrical\"   [− Labels: JJ (0.9797)]\n",
      "Span [72]: \"magnitudes,etc.\"   [− Labels: NN (0.995)]\n",
      "Span [73]: \",\"   [− Labels: , (1.0)]\n",
      "Span [74]: \"to\"   [− Labels: TO (0.9955)]\n",
      "Span [75]: \"all\"   [− Labels: DT (0.8829)]\n",
      "Span [76]: \"be\"   [− Labels: VB (1.0)]\n",
      "Span [77]: \"treated\"   [− Labels: VBN (1.0)]\n",
      "Span [78]: \"as\"   [− Labels: IN (0.9999)]\n",
      "Span [79]: \"\"\"   [− Labels: `` (1.0)]\n",
      "Span [80]: \"algebraic\"   [− Labels: JJ (0.9999)]\n",
      "Span [81]: \"objects\"   [− Labels: NNS (0.9999)]\n",
      "Span [82]: \"\"\"   [− Labels: '' (1.0)]\n",
      "Span [83]: \".\"   [− Labels: , (1.0)]\n",
      "Span [84]: \"It\"   [− Labels: PRP (1.0)]\n",
      "Span [85]: \"gave\"   [− Labels: VBD (1.0)]\n",
      "Span [86]: \"mathematics\"   [− Labels: NNS (0.9994)]\n",
      "Span [87]: \"a\"   [− Labels: DT (1.0)]\n",
      "Span [88]: \"whole\"   [− Labels: JJ (0.9997)]\n",
      "Span [89]: \"new\"   [− Labels: JJ (1.0)]\n",
      "Span [90]: \"development\"   [− Labels: NN (1.0)]\n",
      "Span [91]: \"path\"   [− Labels: NN (1.0)]\n",
      "Span [92]: \"so\"   [− Labels: RB (0.9998)]\n",
      "Span [93]: \"much\"   [− Labels: RB (0.9917)]\n",
      "Span [94]: \"broader\"   [− Labels: JJR (0.9993)]\n",
      "Span [95]: \"in\"   [− Labels: IN (1.0)]\n",
      "Span [96]: \"concept\"   [− Labels: NN (1.0)]\n",
      "Span [97]: \"to\"   [− Labels: IN (1.0)]\n",
      "Span [98]: \"that\"   [− Labels: DT (0.9922)]\n",
      "Span [99]: \"which\"   [− Labels: WDT (1.0)]\n",
      "Span [100]: \"had\"   [− Labels: VBD (1.0)]\n",
      "Span [101]: \"existed\"   [− Labels: VBN (1.0)]\n",
      "Span [102]: \"before\"   [− Labels: RB (0.996)]\n",
      "Span [103]: \",\"   [− Labels: , (1.0)]\n",
      "Span [104]: \"and\"   [− Labels: CC (1.0)]\n",
      "Span [105]: \"provided\"   [− Labels: VBD (0.7769)]\n",
      "Span [106]: \"a\"   [− Labels: DT (1.0)]\n",
      "Span [107]: \"vehicle\"   [− Labels: NN (1.0)]\n",
      "Span [108]: \"for\"   [− Labels: IN (1.0)]\n",
      "Span [109]: \"future\"   [− Labels: JJ (0.9911)]\n",
      "Span [110]: \"development\"   [− Labels: NN (1.0)]\n",
      "Span [111]: \"of\"   [− Labels: IN (1.0)]\n",
      "Span [112]: \"the\"   [− Labels: DT (1.0)]\n",
      "Span [113]: \"subject\"   [− Labels: NN (0.9991)]\n",
      "Span [114]: \".\"   [− Labels: , (0.9996)]\n",
      "Span [115]: \"Another\"   [− Labels: DT (1.0)]\n",
      "Span [116]: \"important\"   [− Labels: JJ (1.0)]\n",
      "Span [117]: \"aspect\"   [− Labels: NN (1.0)]\n",
      "Span [118]: \"of\"   [− Labels: IN (1.0)]\n",
      "Span [119]: \"the\"   [− Labels: DT (1.0)]\n",
      "Span [120]: \"introduction\"   [− Labels: NN (1.0)]\n",
      "Span [121]: \"of\"   [− Labels: IN (1.0)]\n",
      "Span [122]: \"algebraic\"   [− Labels: JJ (1.0)]\n",
      "Span [123]: \"ideas\"   [− Labels: NNS (1.0)]\n",
      "Span [124]: \"was\"   [− Labels: VBD (1.0)]\n",
      "Span [125]: \"that\"   [− Labels: IN (0.9998)]\n",
      "Span [126]: \"it\"   [− Labels: PRP (1.0)]\n",
      "Span [127]: \"allowed\"   [− Labels: VBD (1.0)]\n",
      "Span [128]: \"mathematics\"   [− Labels: NNS (0.9994)]\n",
      "Span [129]: \"to\"   [− Labels: TO (1.0)]\n",
      "Span [130]: \"be\"   [− Labels: VB (1.0)]\n",
      "Span [131]: \"applied\"   [− Labels: VBN (1.0)]\n",
      "Span [132]: \"to\"   [− Labels: IN (1.0)]\n",
      "Span [133]: \"itself\"   [− Labels: PRP (1.0)]\n",
      "Span [134]: \"in\"   [− Labels: IN (1.0)]\n",
      "Span [135]: \"a\"   [− Labels: DT (1.0)]\n",
      "Span [136]: \"way\"   [− Labels: NN (1.0)]\n",
      "Span [137]: \"which\"   [− Labels: WDT (1.0)]\n",
      "Span [138]: \"had\"   [− Labels: VBD (1.0)]\n",
      "Span [139]: \"not\"   [− Labels: RB (1.0)]\n",
      "Span [140]: \"happened\"   [− Labels: VBN (0.9997)]\n",
      "Span [141]: \"before\"   [− Labels: RB (0.9824)]\n",
      "Span [142]: \".\"   [− Labels: . (1.0)]\n"
     ]
    }
   ],
   "source": [
    "##IMPORT MODULES\n",
    "\n",
    "from flair.data import Sentence\n",
    "from flair.models import SequenceTagger\n",
    "\n",
    "\n",
    "tags = SequenceTagger.load('flair/pos-english')\n",
    "my_sent = Sentence(english_text)\n",
    "tags.predict(my_sent)\n",
    "print('\\n')\n",
    "print(\"#RESULT OF ENGLISH TAGG : \",my_sent)\n",
    "print('\\n')\n",
    "for word in my_sent.get_spans('pos'):\n",
    "    print(word)"
   ]
  },
  {
   "cell_type": "markdown",
   "id": "99472121",
   "metadata": {},
   "source": [
    "\n",
    "\n",
    "\n",
    "#  Hugging face in Arab"
   ]
  },
  {
   "cell_type": "code",
   "execution_count": 29,
   "id": "5248e319",
   "metadata": {},
   "outputs": [],
   "source": [
    "arab_text =(\"\"\"\n",
    "ربما كانت أحد أھم التطورات التي قامت بھا الریاضیات العربیة التي\n",
    "بدأت في ھذا الوقت بعمل الخوارزمي وھي بدایات الجبر، ومن المھم فھم كیف كانت ھذه الفكرة الجدیدة مھمة، فقد كانت خطوة ثوریة بعیدا عن المفھوم\n",
    "الیوناني للریاضیات التي ھي في جوھرھا ھندسة، الجبر كان نظریة موحدة تتیح الأعداد الكسریة والأعداد اللا كسریة، والمقادیر الھندسیة وغیرھا،\n",
    "أن تتعامل على أنھا أجسام جبریة، وأعطت الریاضیات ككل مسارا جدیدا للتطور بمفھوم أوسع بكثیر من الذي كان موجودا من قبل، وقدم وسیلة\n",
    "للتنمیة في ھذا الموضوع مستقبلا. وجانب آخر مھم لإدخال أفكار الجبر وھو أنھ سمح بتطبیق الریاضیات على نفسھا بطریقة لم تحدث من قبل\n",
    "\n",
    "\"\"\")\n"
   ]
  },
  {
   "cell_type": "markdown",
   "id": "cf23e462",
   "metadata": {},
   "source": [
    "## 1- Tokenizer"
   ]
  },
  {
   "cell_type": "code",
   "execution_count": 30,
   "id": "d8a09a99",
   "metadata": {
    "scrolled": true
   },
   "outputs": [
    {
     "name": "stdout",
     "output_type": "stream",
     "text": [
      "#RESULT OF TOKENIZE ['ر', '##ب', '##ما', 'كانت', 'أحد', 'أ', '##ھ', '##م', 'ال', '##تطور', '##ات', 'التي', 'قامت', 'ب', '##ھا', 'ال', '##ریا', '##ضی', '##ات', 'العرب', '##ی', '##ة', 'التي', 'بدأت', 'في', 'ھ', '##ذا', 'الوقت', 'ب', '##عمل', 'ال', '##خ', '##وار', '##زم', '##ي', 'و', '##ھ', '##ي', 'ب', '##دای', '##ات', 'ال', '##جب', '##ر', '،', 'ومن', 'ال', '##م', '##ھ', '##م', 'ف', '##ھ', '##م', 'ك', '##یف', 'كانت', 'ھ', '##ذ', '##ه', 'ال', '##فكر', '##ة', 'ال', '##جد', '##ید', '##ة', 'م', '##ھ', '##مة', '،', 'فقد', 'كانت', 'خط', '##وة', 'ث', '##وری', '##ة', 'ب', '##عید', '##ا', 'عن', 'ال', '##م', '##ف', '##ھ', '##وم', 'ال', '##یون', '##اني', 'ل', '##لری', '##اض', '##یات', 'التي', 'ھ', '##ي', 'في', 'جو', '##ھر', '##ھا', 'ھ', '##ندس', '##ة', '،', 'ال', '##جب', '##ر', 'كان', 'نظر', '##ی', '##ة', 'م', '##وحدة', 'ت', '##تی', '##ح', 'ال', '##أ', '##عداد', 'ال', '##كس', '##ری', '##ة', 'و', '##ال', '##أ', '##عداد', 'ال', '##لا', 'ك', '##سر', '##ی', '##ة', '،', 'و', '##الم', '##قاد', '##یر', 'ال', '##ھ', '##ندس', '##ی', '##ة', 'و', '##غیر', '##ھا', '،', 'أن', 'ت', '##ت', '##عامل', 'على', 'أن', '##ھا', 'أ', '##ج', '##سام', 'جب', '##ری', '##ة', '،', 'و', '##أ', '##ع', '##ط', '##ت', 'ال', '##ریا', '##ضی', '##ات', 'ك', '##كل', 'م', '##سار', '##ا', 'جدید', '##ا', 'ل', '##لت', '##طور', 'ب', '##م', '##ف', '##ھ', '##وم', 'أو', '##سع', 'ب', '##ك', '##ث', '##یر', 'من', 'الذي', 'كان', 'موجود', '##ا', 'من', 'قبل', '،', 'وقد', '##م', 'و', '##سی', '##لة', 'ل', '##لت', '##ن', '##می', '##ة', 'في', 'ھ', '##ذا', 'ال', '##مو', '##ض', '##وع', 'م', '##ست', '##قبل', '##ا', '.', 'و', '##جانب', 'آخر', 'م', '##ھ', '##م', 'ل', '##إ', '##د', '##خ', '##ال', 'أ', '##ف', '##كار', 'ال', '##جب', '##ر', 'و', '##ھ', '##و', 'أن', '##ھ', 'س', '##م', '##ح', 'ب', '##ت', '##طب', '##یق', 'ال', '##ریا', '##ضی', '##ات', 'على', 'نفس', '##ھا', 'ب', '##طر', '##یق', '##ة', 'لم', 'تحدث', 'من', 'قبل']\n"
     ]
    }
   ],
   "source": [
    "\n",
    "#!pip install torch\n",
    "#!pip install pytorch_pretrained_bert\n",
    "\n",
    "from transformers import AutoTokenizer, AutoConfig,RobertaTokenizer\n",
    "from flair.data import Sentence\n",
    "from flair.models import SequenceTagger\n",
    "from pytorch_pretrained_bert import BertTokenizer, BertModel, BertForMaskedLM\n",
    "\n",
    "\n",
    "\n",
    "#TOKENIZETION OF TEXT\n",
    "\n",
    "#MODEL_NAME = ('bert-base-cased')\n",
    "\n",
    "from transformers import RobertaTokenizer\n",
    "\n",
    "token=AutoTokenizer.from_pretrained(\"gilf/french-postag-model\")\n",
    "\n",
    "#token = BertTokenizer.from_pretrained(MODEL_NAME)\n",
    "token3 = token.tokenize(arab_text)\n",
    "\n",
    "#PRINT OF TOKENIZETION\n",
    "\n",
    "print(\"#RESULT OF TOKENIZE\",token3)"
   ]
  },
  {
   "cell_type": "markdown",
   "id": "4a25cd3d",
   "metadata": {},
   "source": [
    "\n",
    "\n",
    "### 2- Sentente Tokenization"
   ]
  },
  {
   "cell_type": "code",
   "execution_count": 31,
   "id": "229c34d6",
   "metadata": {},
   "outputs": [
    {
     "name": "stdout",
     "output_type": "stream",
     "text": [
      "2021-07-22 02:28:31,457 Warning: An empty Sentence was created! Are there empty strings in your dataset?\n",
      "\n",
      "\n",
      "#RESULT SENTENCE TOKENIZATION :  [Sentence: \"ربما كانت أحد أھم التطورات التي قامت بھا الریاضیات العربیة التي بدأت في ھذا الوقت بعمل الخوارزمي وھي بدایات الجبر، ومن المھم فھم كیف كانت ھذه الفكرة الجدیدة مھمة، فقد كانت خطوة ثوریة بعیدا عن المفھوم الیوناني للریاضیات التي ھي في جوھرھا ھندسة، الجبر كان نظریة موحدة تتیح الأعداد الكسریة والأعداد اللا كسریة، والمقادیر الھندسیة وغیرھا، أن تتعامل على أنھا أجسام جبریة، وأعطت الریاضیات ككل مسارا جدیدا للتطور بمفھوم أوسع بكثیر من الذي كان موجودا من قبل، وقدم وسیلة للتنمیة في ھذا الموضوع مستقبلا .\"   [− Tokens: 85], Sentence: \"وجانب آخر مھم لإدخال أفكار الجبر وھو أنھ سمح بتطبیق الریاضیات على نفسھا بطریقة لم تحدث من قبل\"   [− Tokens: 18], Sentence: \"\"   [− Tokens: 0]]\n"
     ]
    }
   ],
   "source": [
    "\n",
    "#IMPORT MODULES\n",
    "\n",
    "from bs4 import BeautifulSoup\n",
    "import requests\n",
    "from flair.data import Sentence\n",
    "from pprint import pprint\n",
    "from segtok.segmenter import split_single\n",
    "from flair.models import MultiTagger, SequenceTagger\n",
    "from flair.tokenization import SegtokSentenceSplitter\n",
    "\n",
    "\n",
    "\n",
    "#POS TAGGING\n",
    "\n",
    "#tags3 = SequenceTagger.load('pos-multi')\n",
    "#my_sent3 = Sentence(arab_text)\n",
    "#tags3.predict(my_sent3)\n",
    "\n",
    "#for w in tags3.get_spans('pos'):\n",
    "    \n",
    " #   print(w)\n",
    "    \n",
    "    \n",
    "#initialize sentence splitter\n",
    "splitter = SegtokSentenceSplitter()\n",
    "    \n",
    "sentences = splitter.split(arab_text)\n",
    "\n",
    "#sentences = [Sentence(sent, use_tokenizer=True) \n",
    "             \n",
    "#             for sent in split_single(english_text)]\n",
    "\n",
    "print('\\n')\n",
    "print(\"#RESULT SENTENCE TOKENIZATION : \", sentences)"
   ]
  },
  {
   "cell_type": "markdown",
   "id": "d1e750e1",
   "metadata": {},
   "source": [
    "\n",
    "\n",
    "\n",
    "\n",
    "# Hugging Face using Frannch\n",
    "\n"
   ]
  },
  {
   "cell_type": "markdown",
   "id": "3eb814cf",
   "metadata": {},
   "source": [
    "\n",
    "   ## 1- Tokenizer"
   ]
  },
  {
   "cell_type": "code",
   "execution_count": 32,
   "id": "16073c8e",
   "metadata": {},
   "outputs": [
    {
     "name": "stdout",
     "output_type": "stream",
     "text": [
      "#RESULT OF ARAB TOKENIZE ['L', \"'\", 'une', 'des', 'av', '##anc', '##ées', 'les', 'plus', 'significa', '##tives', 'des', 'mathématiques', 'arabes', 'a', 'peut', '-', 'être', 'commencé', 'à', 'cette', 'époque', 'avec', 'les', 'travaux', 'd', \"'\", 'al', '-', 'K', '##hwa', '##riz', '##mi', ',', 'à', 'savoir', 'les', 'débuts', 'de', 'l', \"'\", 'al', '##g', '##è', '##bre', '.', 'Il', 'est', 'important', 'de', 'comprendre', 'à', 'quel', 'point', 'cette', 'nouvelle', 'idée', 'était', 'importante', '.', 'C', \"'\", 'était', 'un', 'mouvement', 'révolutionnaire', 'qui', 's', \"'\", 'él', '##oi', '##gna', '##it', 'du', 'concept', 'grec', 'des', 'mathématiques', 'qui', 'était', 'essentiellement', 'de', 'la', 'g', '##éo', '##métrie', '.', 'L', \"'\", 'al', '##g', '##è', '##bre', 'était', 'une', 'théorie', 'uni', '##ficat', '##rice', 'qui', 'permet', '##tait', 'de', 'les', 'nombres', ',', 'les', 'nombres', 'ir', '##ration', '##nels', ',', 'les', 'grande', '##urs', 'g', '##éo', '##métrique', '##s', ',', 'etc', '.', ',', 'doivent', 'tous', 'être', 'traité', '##s', 'comme', 'des', '\"', 'objets', 'al', '##gé', '##brique', '##s', '\"', '.', 'Cela', 'a', 'donné', 'aux', 'mathématiques', 'une', 'toute', 'nouvelle', 'voie', 'de', 'développement', 'telle', '##ment', 'plus', 'large', 'dans', 'le', 'concept', 'de', 'ce', 'qui', 'exist', '##ait', 'auparavant', ',', 'et', 'a', 'four', '##ni', 'un', 'véhicule', 'pour', 'le', 'développement', 'futur', 'du', 'sujet', '.', 'Un', 'autre', 'aspect', 'important', 'de', 'l', \"'\", 'introduction', 'des', 'idées', 'al', '##gé', '##brique', '##s', 'était', 'qu', \"'\", 'elle', 'permet', '##tait', 'aux', 'mathématiques', 'de', 's', \"'\", 'app', '##lique', '##r', 'à', 'elles', '-', 'mêmes', 'd', \"'\", 'une', 'manière', 'qui', 'ne', 's', \"'\", 'était', 'jamais', 'produite', 'auparavant', '.']\n"
     ]
    }
   ],
   "source": [
    "\n",
    "from transformers import AutoTokenizer\n",
    "from flair.data import Sentence\n",
    "from flair.models import SequenceTagger\n",
    "from pytorch_pretrained_bert import BertTokenizer, BertModel, BertForMaskedLM\n",
    "\n",
    "french_text=(\"\"\"\n",
    "            L'une des avancées les plus significatives des mathématiques arabes a peut-être commencé à \n",
    "            cette époque avec les travaux d'al-Khwarizmi, à savoir les débuts de l'algèbre. Il est \n",
    "            important de comprendre à quel point cette nouvelle idée était importante. C'était un mouvement\n",
    "            révolutionnaire qui s'éloignait du concept grec des mathématiques qui était essentiellement de \n",
    "            la géométrie. L'algèbre était une théorie unificatrice qui permettait de les nombres, les \n",
    "            nombres irrationnels, les grandeurs géométriques, etc., doivent tous être traités comme des \n",
    "            \"objets algébriques\". Cela a donné aux mathématiques une toute nouvelle voie de développement \n",
    "            tellement plus large dans le concept de ce qui existait auparavant, et a fourni un véhicule pour\n",
    "            le développement futur du sujet. Un autre aspect important de l'introduction des idées algébriques\n",
    "            était qu'elle permettait aux mathématiques de s'appliquer à elles-mêmes d'une manière qui ne \n",
    "            s'était jamais produite auparavant.\"\"\")\n",
    "\n",
    "\n",
    "#TOKENIZETION OF TEXT\n",
    "\n",
    "#MODEL_NAME = ('bert-base-cased')\n",
    "\n",
    "\n",
    "\n",
    "token=AutoTokenizer.from_pretrained(\"gilf/french-postag-model\")\n",
    "\n",
    "#token = BertTokenizer.from_pretrained(MODEL_NAME)\n",
    "tokenF = token.tokenize(french_text)\n",
    "\n",
    "#PRINT OF TOKENIZETION\n",
    "\n",
    "print(\"#RESULT OF ARAB TOKENIZE\",tokenF)\n",
    "\n"
   ]
  },
  {
   "cell_type": "markdown",
   "id": "cd06047a",
   "metadata": {},
   "source": [
    "\n",
    "\n",
    "## 2- Sentente Tokenization"
   ]
  },
  {
   "cell_type": "code",
   "execution_count": 33,
   "id": "f86cab04",
   "metadata": {},
   "outputs": [
    {
     "name": "stdout",
     "output_type": "stream",
     "text": [
      "\n",
      "\n",
      "#RESULT SENTENCE TOKENIZATION :  [Sentence: \"L'une des avancées les plus significatives des mathématiques arabes a peut-être commencé à cette époque avec les travaux d'al-Khwarizmi , à savoir les débuts de l'algèbre .\"   [− Tokens: 27], Sentence: \"Il est important de comprendre à quel point cette nouvelle idée était importante .\"   [− Tokens: 14], Sentence: \"C'était un mouvement révolutionnaire qui s'éloignait du concept grec des mathématiques qui était essentiellement de la géométrie .\"   [− Tokens: 18], Sentence: \"L'algèbre était une théorie unificatrice qui permettait de les nombres , les nombres irrationnels , les grandeurs géométriques , etc. , doivent tous être traités comme des \" objets algébriques \" .\"   [− Tokens: 32], Sentence: \"Cela a donné aux mathématiques une toute nouvelle voie de développement tellement plus large dans le concept de ce qui existait auparavant , et a fourni un véhicule pour le développement futur du sujet .\"   [− Tokens: 35], Sentence: \"Un autre aspect important de l'introduction des idées algébriques était qu'elle permettait aux mathématiques de s'appliquer à elles-mêmes d'une manière qui ne s'était jamais produite auparavant .\"   [− Tokens: 27]]\n"
     ]
    }
   ],
   "source": [
    "\n",
    "import requests\n",
    "\n",
    "from pprint import pprint\n",
    "from segtok.segmenter import split_single\n",
    "from flair.tokenization import SegtokSentenceSplitter\n",
    "\n",
    "\n",
    "\n",
    "#  TEXT\n",
    "french_text=(\"\"\"\n",
    "            L'une des avancées les plus significatives des mathématiques arabes a peut-être commencé à \n",
    "            cette époque avec les travaux d'al-Khwarizmi, à savoir les débuts de l'algèbre. Il est \n",
    "            important de comprendre à quel point cette nouvelle idée était importante. C'était un mouvement\n",
    "            révolutionnaire qui s'éloignait du concept grec des mathématiques qui était essentiellement de \n",
    "            la géométrie. L'algèbre était une théorie unificatrice qui permettait de les nombres, les \n",
    "            nombres irrationnels, les grandeurs géométriques, etc., doivent tous être traités comme des \n",
    "            \"objets algébriques\". Cela a donné aux mathématiques une toute nouvelle voie de développement \n",
    "            tellement plus large dans le concept de ce qui existait auparavant, et a fourni un véhicule pour\n",
    "            le développement futur du sujet. Un autre aspect important de l'introduction des idées algébriques\n",
    "            était qu'elle permettait aux mathématiques de s'appliquer à elles-mêmes d'une manière qui ne \n",
    "            s'était jamais produite auparavant.\"\"\")\n",
    "\n",
    "\n",
    "\n",
    "\n",
    "#initialize sentence splitter\n",
    "splitter = SegtokSentenceSplitter()\n",
    "    \n",
    "sentences = splitter.split(french_text)\n",
    "\n",
    "#sentences = [Sentence(sent, use_tokenizer=True) \n",
    "             \n",
    "#             for sent in split_single(english_text)]\n",
    "\n",
    "print('\\n')\n",
    "\n",
    "print(\"#RESULT SENTENCE TOKENIZATION : \", sentences)\n",
    "    \n",
    "    "
   ]
  },
  {
   "cell_type": "code",
   "execution_count": null,
   "id": "f554982e",
   "metadata": {},
   "outputs": [],
   "source": []
  }
 ],
 "metadata": {
  "kernelspec": {
   "display_name": "Python 3",
   "language": "python",
   "name": "python3"
  },
  "language_info": {
   "codemirror_mode": {
    "name": "ipython",
    "version": 3
   },
   "file_extension": ".py",
   "mimetype": "text/x-python",
   "name": "python",
   "nbconvert_exporter": "python",
   "pygments_lexer": "ipython3",
   "version": "3.8.8"
  }
 },
 "nbformat": 4,
 "nbformat_minor": 5
}
